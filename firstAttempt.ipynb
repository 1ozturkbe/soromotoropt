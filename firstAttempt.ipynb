{
 "cells": [
  {
   "cell_type": "code",
   "execution_count": 1,
   "metadata": {},
   "outputs": [
    {
     "data": {
      "text/latex": [
       "$$ \\begin{alignat*}{1}\\min\\quad & 0\\\\\n",
       "\\text{Subject to} \\quad\\end{alignat*}\n",
       " $$"
      ],
      "text/plain": [
       "Feasibility problem with:\n",
       " * 0 linear constraints\n",
       " * 0 variables\n",
       "Solver is default solver"
      ]
     },
     "execution_count": 1,
     "metadata": {},
     "output_type": "execute_result"
    }
   ],
   "source": [
    "using JuMP\n",
    "#using Gurobi\n",
    "m = Model() #solver = GurobiSolver"
   ]
  },
  {
   "cell_type": "code",
   "execution_count": 2,
   "metadata": {},
   "outputs": [],
   "source": [
    "# Problem definition\n",
    "nctrl = 10; # number of control points\n",
    "nt = 5; # number of time steps\n",
    "r = 1; # radius of the motor\n",
    "circ = 2*pi*r; # maximum circumference of the motor\n",
    "circProfile = 2*pi*r*ones(nt);\n",
    "regrate = 0.05;"
   ]
  },
  {
   "cell_type": "code",
   "execution_count": 3,
   "metadata": {},
   "outputs": [
    {
     "data": {
      "text/latex": [
       "$$ circ_{i} \\geq 0 \\quad\\forall i \\in \\{1,2,\\dots,4,5\\} $$"
      ],
      "text/plain": [
       "5-element Array{JuMP.Variable,1}:\n",
       " circ[1]\n",
       " circ[2]\n",
       " circ[3]\n",
       " circ[4]\n",
       " circ[5]"
      ]
     },
     "execution_count": 3,
     "metadata": {},
     "output_type": "execute_result"
    }
   ],
   "source": [
    "#@variable(m, 0 <= ctrlRadius[1:nctrl,1:nt] <= r)\n",
    "#@variable(m, 0 <= ctrlTheta[1:nctrl,1:nt] <= 2*pi)\n",
    "# JuMP does not support complex numbers\n",
    "@variable(m, 0 <= x[1:nctrl,1:nt] <= r)\n",
    "@variable(m, 0 <= y[1:nctrl,1:nt] <= r)\n",
    "@variable(m, nx[1:nctrl,1:nt] >= 0)\n",
    "@variable(m, ny[1:nctrl,1:nt] >= 0)\n",
    "@variable(m, l[1:nctrl,1:nt] >= 0)\n",
    "@variable(m, circ[1:nt] >= 0)"
   ]
  },
  {
   "cell_type": "code",
   "execution_count": 4,
   "metadata": {},
   "outputs": [],
   "source": [
    "for i in range(1,nctrl)\n",
    "    for j in 1:nt\n",
    "        # Geometry bounding\n",
    "        @constraint(m, x[i,j]^2 + y[i,j]^2 <= r^2)\n",
    "    end\n",
    "end\n",
    "\n",
    "# Normal vector and length (of LHS edge of current point) calculation\n",
    "for j in 1:nt\n",
    "    @NLconstraint(m, nx[1,j] == -(y[1,j]-y[nctrl,j])/l[nctrl,j])\n",
    "    @NLconstraint(m, ny[1,j] == (x[1,j]-x[nctrl,j])/l[nctrl,j])\n",
    "    @NLconstraint(m, l[1,j]^2 == (x[1,j] - x[nctrl, j])^2 + (y[1,j] - y[nctrl, j])^2)\n",
    "    for i in 2:nctrl\n",
    "        @NLconstraint(m, nx[i,j] == -(y[i,j]-y[i-1,j])/l[i-1,j])\n",
    "        @NLconstraint(m, ny[i,j] == (x[i,j]-x[i-1,j])/l[i-1,j])\n",
    "    end\n",
    "end\n",
    "\n",
    "# Motion of the flame front\n",
    "for j in 2:nt\n",
    "    @NLconstraint(m, x[nctrl,j] == x[nctrl,j-1] + 0.5*nx[nctrl,j-1]*regrate + 0.5*nx[1,j-1]*regrate)\n",
    "    @NLconstraint(m, y[nctrl,j] == y[nctrl,j-1] + 0.5*ny[nctrl,j-1]*regrate + 0.5*ny[1,j-1]*regrate)\n",
    "    for i in 1:nctrl-1\n",
    "    @NLconstraint(m, x[i,j] == x[i,j-1] + nx[i,j-1]*regrate + nx[i+1,j-1]*regrate)\n",
    "    @NLconstraint(m, y[i,j] == y[i,j-1] + ny[i,j-1]*regrate + ny[i+1,j-1]*regrate)\n",
    "    end\n",
    "end\n",
    "    \n"
   ]
  },
  {
   "cell_type": "code",
   "execution_count": 5,
   "metadata": {},
   "outputs": [
    {
     "data": {
      "text/plain": [
       ":Min"
      ]
     },
     "execution_count": 5,
     "metadata": {},
     "output_type": "execute_result"
    }
   ],
   "source": [
    "@objective(m, Min, sum((circProfile[i]-circ[i])^2 for i in nt))"
   ]
  },
  {
   "cell_type": "code",
   "execution_count": 6,
   "metadata": {},
   "outputs": [
    {
     "ename": "LoadError",
     "evalue": "ReadOnlyMemoryError()",
     "output_type": "error",
     "traceback": [
      "ReadOnlyMemoryError()",
      "",
      " in solveProblem(::Ipopt.IpoptProblem) at C:\\Users\\Berk\\.julia\\v0.5\\Ipopt\\src\\Ipopt.jl:304",
      " in optimize!(::Ipopt.IpoptMathProgModel) at C:\\Users\\Berk\\.julia\\v0.5\\Ipopt\\src\\IpoptSolverInterface.jl:120",
      " in #solvenlp#139(::Bool, ::Function, ::JuMP.Model, ::JuMP.ProblemTraits) at C:\\Users\\Berk\\.julia\\v0.5\\JuMP\\src\\nlp.jl:1246",
      " in (::JuMP.#kw##solvenlp)(::Array{Any,1}, ::JuMP.#solvenlp, ::JuMP.Model, ::JuMP.ProblemTraits) at .\\<missing>:0",
      " in #solve#88(::Bool, ::Bool, ::Bool, ::Array{Any,1}, ::Function, ::JuMP.Model) at C:\\Users\\Berk\\.julia\\v0.5\\JuMP\\src\\solvers.jl:138",
      " in solve(::JuMP.Model) at C:\\Users\\Berk\\.julia\\v0.5\\JuMP\\src\\solvers.jl:116",
      " in include_string(::String, ::String) at .\\loading.jl:441"
     ]
    }
   ],
   "source": [
    "solution = solve(m)"
   ]
  },
  {
   "cell_type": "code",
   "execution_count": null,
   "metadata": {},
   "outputs": [],
   "source": []
  }
 ],
 "metadata": {
  "kernelspec": {
   "display_name": "Julia 0.5.0",
   "language": "julia",
   "name": "julia-0.5"
  },
  "language_info": {
   "file_extension": ".jl",
   "mimetype": "application/julia",
   "name": "julia",
   "version": "0.5.0"
  }
 },
 "nbformat": 4,
 "nbformat_minor": 2
}
