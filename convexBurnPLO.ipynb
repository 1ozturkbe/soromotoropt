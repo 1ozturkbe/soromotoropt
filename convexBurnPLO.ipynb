{
 "cells": [
  {
   "cell_type": "code",
   "execution_count": 15,
   "metadata": {},
   "outputs": [],
   "source": [
    "using JuMP\n",
    "using PiecewiseLinearOpt\n",
    "using CPLEX\n",
    "using DaChoppa\n",
    "mip_solver = CplexSolver(CPX_PARAM_SCRIND=1, CPX_PARAM_EPINT=1e-9, \n",
    "    CPX_PARAM_EPRHS=1e-9, CPX_PARAM_EPGAP=1e-7);\n",
    "global_solver = DaChoppaSolver(log_level=1, mip_solver=mip_solver);\n"
   ]
  },
  {
   "cell_type": "code",
   "execution_count": 16,
   "metadata": {},
   "outputs": [],
   "source": [
    "# Problem definition\n",
    "nctrl = 10; # number of control points\n",
    "nt = 10; # number of time steps\n",
    "r = 1; # radius of the motor\n",
    "circ = 2*pi*r; # maximum circumference of the motor\n",
    "circProfile = pi*r*ones(nt);\n",
    "regrate = 0.05;"
   ]
  },
  {
   "cell_type": "code",
   "execution_count": 17,
   "metadata": {},
   "outputs": [],
   "source": [
    "m = Model(solver = global_solver);"
   ]
  },
  {
   "cell_type": "code",
   "execution_count": 18,
   "metadata": {},
   "outputs": [],
   "source": [
    "# Real-space variables\n",
    "@variables m begin\n",
    "    x[1:nctrl, 1:nt]\n",
    "    absx[1:nctrl,1:nt]\n",
    "    dx[1:nctrl, 1:nt]\n",
    "    dx2[1:nctrl, 1:nt]\n",
    "    y[1:nctrl, 1:nt]\n",
    "    absy[1:nctrl,1:nt]\n",
    "    dy[1:nctrl, 1:nt]   \n",
    "    dy2[1:nctrl, 1:nt]\n",
    "    nx[1:nctrl, 1:nt]\n",
    "    ny[1:nctrl, 1:nt]\n",
    "    l[1:nctrl, 1:nt]\n",
    "    l2[1:nctrl, 1:nt]\n",
    "    circ[1:nt]\n",
    "    penalty[1:nt]\n",
    "end"
   ]
  },
  {
   "cell_type": "code",
   "execution_count": 19,
   "metadata": {},
   "outputs": [],
   "source": [
    "# Linear constraints\n",
    "@constraints m begin\n",
    "    l[:,:] .>= 0\n",
    "    circ[:,:] .>= 0\n",
    "    # Motion of flame front \n",
    "    x[1:nctrl,2:nt] .== x[1:nctrl,1:nt-1] + \n",
    "            0.5*nx[1:nctrl,1:nt-1]*regrate + \n",
    "            0.5*nx[1:nctrl,1:nt-1]*regrate\n",
    "    y[1:nctrl,2:nt] .== y[1:nctrl,1:nt-1] + \n",
    "            0.5*ny[1:nctrl,1:nt-1]*regrate + \n",
    "            0.5*ny[1:nctrl,1:nt-1]*regrate\n",
    "    dx[2:nctrl,1:nt] .== x[2:nctrl,1:nt] - x[1:nctrl-1,1:nt]\n",
    "    dx[1,1:nt] .== x[1,1:nt] - x[nctrl,1:nt]\n",
    "    dy[2:nctrl,1:nt] .== y[2:nctrl,1:nt] - y[1:nctrl-1,1:nt]\n",
    "    dy[1,1:nt] .== y[1,1:nt] - y[nctrl,1:nt]\n",
    "    l2[1:nctrl,1:nt] .== dx2[1:nctrl,1:nt] + dy2[1:nctrl,1:nt]\n",
    "    absx[1:nctrl,1:nt] .>= x[1:nctrl,1:nt]\n",
    "    absx[1:nctrl,1:nt] .>= -1*x[1:nctrl,1:nt]\n",
    "    absy[1:nctrl,1:nt] .>= y[1:nctrl,1:nt]  \n",
    "    absy[1:nctrl,1:nt] .>= -1*y[1:nctrl,1:nt]\n",
    "    nx[1:nctrl,1:nt] .== -1*dy[1:nctrl,1:nt]\n",
    "    ny[1:nctrl,1:nt] .== dx[1:nctrl,1:nt]\n",
    "end\n",
    "for i in 1:nt\n",
    "    @constraint(m, circ[i] == sum(l[1:nctrl,i]))\n",
    "    @constraint(m, penalty[i] >= circ[i] - circProfile[i])\n",
    "    @constraint(m, penalty[i] >= -(circ[i] - circProfile[i]))\n",
    "end"
   ]
  },
  {
   "cell_type": "code",
   "execution_count": 20,
   "metadata": {},
   "outputs": [
    {
     "ename": "LoadError",
     "evalue": "\u001b[91mMethodError: no method matching piecewiselinear(::JuMP.Model, ::Array{JuMP.Variable,2}, ::StepRangeLen{Float64,Base.TwicePrecision{Float64},Base.TwicePrecision{Float64}}, ::Array{Float64,1})\u001b[0m\nClosest candidates are:\n  piecewiselinear(::JuMP.Model, \u001b[91m::Union{JuMP.GenericAffExpr{Float64,JuMP.Variable}, JuMP.Variable}\u001b[39m, ::Any, ::Any; method) at C:\\Users\\Berk\\.julia\\v0.6\\PiecewiseLinearOpt\\src\\jump.jl:24\n  piecewiselinear(::JuMP.Model, \u001b[91m::Union{JuMP.GenericAffExpr{Float64,JuMP.Variable}, JuMP.Variable}\u001b[39m, ::Any, \u001b[91m::Function\u001b[39m; method) at C:\\Users\\Berk\\.julia\\v0.6\\PiecewiseLinearOpt\\src\\jump.jl:19\n  piecewiselinear(::JuMP.Model, \u001b[91m::JuMP.Variable\u001b[39m, \u001b[91m::Union{JuMP.GenericAffExpr{Float64,JuMP.Variable}, JuMP.Variable}\u001b[39m, ::Any, \u001b[91m::Any\u001b[39m, \u001b[91m::Function\u001b[39m; method) at C:\\Users\\Berk\\.julia\\v0.6\\PiecewiseLinearOpt\\src\\jump.jl:516\n  ...\u001b[39m",
     "output_type": "error",
     "traceback": [
      "\u001b[91mMethodError: no method matching piecewiselinear(::JuMP.Model, ::Array{JuMP.Variable,2}, ::StepRangeLen{Float64,Base.TwicePrecision{Float64},Base.TwicePrecision{Float64}}, ::Array{Float64,1})\u001b[0m\nClosest candidates are:\n  piecewiselinear(::JuMP.Model, \u001b[91m::Union{JuMP.GenericAffExpr{Float64,JuMP.Variable}, JuMP.Variable}\u001b[39m, ::Any, ::Any; method) at C:\\Users\\Berk\\.julia\\v0.6\\PiecewiseLinearOpt\\src\\jump.jl:24\n  piecewiselinear(::JuMP.Model, \u001b[91m::Union{JuMP.GenericAffExpr{Float64,JuMP.Variable}, JuMP.Variable}\u001b[39m, ::Any, \u001b[91m::Function\u001b[39m; method) at C:\\Users\\Berk\\.julia\\v0.6\\PiecewiseLinearOpt\\src\\jump.jl:19\n  piecewiselinear(::JuMP.Model, \u001b[91m::JuMP.Variable\u001b[39m, \u001b[91m::Union{JuMP.GenericAffExpr{Float64,JuMP.Variable}, JuMP.Variable}\u001b[39m, ::Any, \u001b[91m::Any\u001b[39m, \u001b[91m::Function\u001b[39m; method) at C:\\Users\\Berk\\.julia\\v0.6\\PiecewiseLinearOpt\\src\\jump.jl:516\n  ...\u001b[39m",
      "",
      "Stacktrace:",
      " [1] \u001b[1minclude_string\u001b[22m\u001b[22m\u001b[1m(\u001b[22m\u001b[22m::String, ::String\u001b[1m)\u001b[22m\u001b[22m at \u001b[1m.\\loading.jl:522\u001b[22m\u001b[22m",
      " [2] \u001b[1mexecute_request\u001b[22m\u001b[22m\u001b[1m(\u001b[22m\u001b[22m::ZMQ.Socket, ::IJulia.Msg\u001b[1m)\u001b[22m\u001b[22m at \u001b[1mC:\\Users\\Berk\\.julia\\v0.6\\IJulia\\src\\execute_request.jl:193\u001b[22m\u001b[22m",
      " [3] \u001b[1m(::Compat.#inner#14{Array{Any,1},IJulia.#execute_request,Tuple{ZMQ.Socket,IJulia.Msg}})\u001b[22m\u001b[22m\u001b[1m(\u001b[22m\u001b[22m\u001b[1m)\u001b[22m\u001b[22m at \u001b[1mC:\\Users\\Berk\\.julia\\v0.6\\Compat\\src\\Compat.jl:332\u001b[22m\u001b[22m",
      " [4] \u001b[1meventloop\u001b[22m\u001b[22m\u001b[1m(\u001b[22m\u001b[22m::ZMQ.Socket\u001b[1m)\u001b[22m\u001b[22m at \u001b[1mC:\\Users\\Berk\\.julia\\v0.6\\IJulia\\src\\eventloop.jl:8\u001b[22m\u001b[22m",
      " [5] \u001b[1m(::IJulia.##13#16)\u001b[22m\u001b[22m\u001b[1m(\u001b[22m\u001b[22m\u001b[1m)\u001b[22m\u001b[22m at \u001b[1m.\\task.jl:335\u001b[22m\u001b[22m"
     ]
    }
   ],
   "source": [
    "# Piecewise linearization\n",
    "rn = r/10.\n",
    "logabsx = piecewiselinear(m, absx, 0:rn:r, log.(0:rn:r))\n",
    "logabsy = piecewiselinear(m, absy, 0:rn:r, log.(0:rn:r))"
   ]
  },
  {
   "cell_type": "code",
   "execution_count": null,
   "metadata": {},
   "outputs": [],
   "source": [
    "# Purely convex (GP) constraints\n",
    "for i in 1:nctrl\n",
    "    for j in 1:nt\n",
    "        @NLconstraint(m, exp(2*logabsx + 2*logabsy) <= exp(2*log(r)))\n",
    "        @NLconstraint(m, exp(2*logabsx) == dx2[i,j])\n",
    "        @NLconstraint(m, exp(2*logabsy) == dy2[i,j])\n",
    "    end\n",
    "end"
   ]
  },
  {
   "cell_type": "code",
   "execution_count": null,
   "metadata": {},
   "outputs": [],
   "source": [
    "# # Piecewise linear constraints\n",
    "# pldx2 = piecewiselinear(m, dx, 0:r/10.:r, u -> u^2)\n",
    "# pldy2 = piecewiselinear(m, dy, 0:r/10.:r, u -> u^2)\n",
    "# @constraint(m, dx2 == pldx2)\n",
    "# @constraint(m, dy2 == pldy2)\n"
   ]
  },
  {
   "cell_type": "code",
   "execution_count": 14,
   "metadata": {},
   "outputs": [
    {
     "data": {
      "text/latex": [
       "$$ penalty_{1} + penalty_{2} + penalty_{3} + penalty_{4} + penalty_{5} $$"
      ],
      "text/plain": [
       "penalty[1] + penalty[2] + penalty[3] + penalty[4] + penalty[5]"
      ]
     },
     "execution_count": 14,
     "metadata": {},
     "output_type": "execute_result"
    }
   ],
   "source": [
    "@objective(m, Min, sum(penalty))"
   ]
  },
  {
   "cell_type": "code",
   "execution_count": null,
   "metadata": {},
   "outputs": [],
   "source": [
    "# m = soromotor_model(solver, nctrl, nt, r, regrate,circProfile)\n",
    "solve(m)\n",
    "#status = solve(m)"
   ]
  }
 ],
 "metadata": {
  "kernelspec": {
   "display_name": "Julia 0.6.4",
   "language": "julia",
   "name": "julia-0.6"
  },
  "language_info": {
   "file_extension": ".jl",
   "mimetype": "application/julia",
   "name": "julia",
   "version": "0.6.4"
  }
 },
 "nbformat": 4,
 "nbformat_minor": 2
}
