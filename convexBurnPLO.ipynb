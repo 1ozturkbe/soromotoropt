{
 "cells": [
  {
   "cell_type": "code",
   "execution_count": 12,
   "metadata": {},
   "outputs": [],
   "source": [
    "using JuMP;\n",
    "using PiecewiseLinearOpt;\n",
    "using Gurobi;\n",
    "using CPLEX;\n",
    "using DaChoppa;\n",
    "using Plots;\n",
    "mip_solver = CplexSolver(CPX_PARAM_SCRIND=1, CPX_PARAM_EPINT=1e-9, \n",
    "    CPX_PARAM_EPRHS=1e-9, CPX_PARAM_EPGAP=1e-7);\n",
    "# mip_solver = Gurobi.GurobiSolver(OutputFlag=1, IntFeasTol=1e-9, FeasibilityTol=1e-9, MIPGap=1e-7)\n",
    "global_solver = DaChoppaSolver(log_level=1, mip_solver=mip_solver);\n",
    "plotly();\n"
   ]
  },
  {
   "cell_type": "code",
   "execution_count": 13,
   "metadata": {},
   "outputs": [],
   "source": [
    "# Problem definition\n",
    "nctrl = 8; # number of control points\n",
    "nt = 6; # number of time steps\n",
    "r = 1; # radius of the motor\n",
    "circ = 2*pi*r; # maximum circumference of the motor\n",
    "circProfile = pi*r*ones(nt) + 1/2*pi*linspace(0,1,nt)*r;\n",
    "regrate = 0.25;\n"
   ]
  },
  {
   "cell_type": "code",
   "execution_count": 14,
   "metadata": {},
   "outputs": [],
   "source": [
    "m = Model(solver = global_solver);"
   ]
  },
  {
   "cell_type": "code",
   "execution_count": 15,
   "metadata": {},
   "outputs": [],
   "source": [
    "# Real-space variables\n",
    "@variables m begin\n",
    "    x[1:nctrl, 1:nt]\n",
    "    absx[1:nctrl,1:nt]\n",
    "    logabsx[1:nctrl,1:nt]\n",
    "    dx[1:nctrl, 1:nt]\n",
    "    dx2[1:nctrl, 1:nt]\n",
    "    y[1:nctrl, 1:nt]\n",
    "    absy[1:nctrl,1:nt]\n",
    "    logabsy[1:nctrl,1:nt]\n",
    "    dy[1:nctrl, 1:nt]   \n",
    "    dy2[1:nctrl, 1:nt]\n",
    "    nx[1:nctrl, 1:nt]\n",
    "#     nxol[1:nctrl, 1:nt]\n",
    "    ny[1:nctrl, 1:nt]\n",
    "#     nyol[1:nctrl, 1:nt]\n",
    "    l[1:nctrl, 1:nt]\n",
    "    logl[1:nctrl, 1:nt]\n",
    "    l2[1:nctrl, 1:nt]\n",
    "    circ[1:nt]\n",
    "    penalty[1:nt]\n",
    "#     rate[1:nctrl, 1:nt]\n",
    "#     lograte[1:nctrl,1:nt]\n",
    "end"
   ]
  },
  {
   "cell_type": "code",
   "execution_count": 16,
   "metadata": {},
   "outputs": [],
   "source": [
    "# Linear constraints\n",
    "@constraints m begin\n",
    "    l[:,:] .>= 0\n",
    "    circ[:,:] .>= 0\n",
    "    # Motion of flame front \n",
    "    x[1:nctrl-1,2:nt] .== x[1:nctrl-1,1:nt-1] + \n",
    "            0.5*nx[1:nctrl-1,1:nt-1]*regrate + \n",
    "            0.5*nx[2:nctrl,1:nt-1]*regrate \n",
    "    \n",
    "    x[nctrl,2:nt] .== x[nctrl,1:nt-1] + \n",
    "            0.5*nx[nctrl,1:nt-1]*regrate + \n",
    "            0.5*nx[1,1:nt-1]*regrate\n",
    "    \n",
    "    y[1:nctrl-1,2:nt] .== y[1:nctrl-1,1:nt-1] + \n",
    "            0.5*ny[1:nctrl-1,1:nt-1]*regrate + \n",
    "            0.5*ny[2:nctrl,1:nt-1]*regrate \n",
    "    \n",
    "    y[nctrl,2:nt] .== y[nctrl,1:nt-1] + \n",
    "            0.5*ny[nctrl,1:nt-1]*regrate + \n",
    "            0.5*ny[1,1:nt-1]*regrate\n",
    "    \n",
    "    dx[2:nctrl,1:nt] .== x[2:nctrl,1:nt] - x[1:nctrl-1,1:nt]\n",
    "    dx[1,1:nt] .== x[1,1:nt] - x[nctrl,1:nt]\n",
    "    dy[2:nctrl,1:nt] .== y[2:nctrl,1:nt] - y[1:nctrl-1,1:nt]\n",
    "    dy[1,1:nt] .== y[1,1:nt] - y[nctrl,1:nt]\n",
    "    l2[1:nctrl,1:nt] .== dx2[1:nctrl,1:nt] + dy2[1:nctrl,1:nt]\n",
    "    absx[1:nctrl,1:nt] .>= x[1:nctrl,1:nt]\n",
    "    absx[1:nctrl,1:nt] .>= -1*x[1:nctrl,1:nt]\n",
    "    absy[1:nctrl,1:nt] .>= y[1:nctrl,1:nt]  \n",
    "    absy[1:nctrl,1:nt] .>= -1*y[1:nctrl,1:nt]\n",
    "    nx[1:nctrl,1:nt] .== -1*dy[1:nctrl,1:nt]\n",
    "    ny[1:nctrl,1:nt] .== dx[1:nctrl,1:nt]\n",
    "end\n",
    "for i in 1:nt\n",
    "    @constraint(m, circ[i] == sum(l[1:nctrl,i]))\n",
    "    @constraint(m, penalty[i] >= circ[i] - circProfile[i])\n",
    "    @constraint(m, penalty[i] >= -(circ[i] - circProfile[i]))\n",
    "end"
   ]
  },
  {
   "cell_type": "code",
   "execution_count": 17,
   "metadata": {},
   "outputs": [],
   "source": [
    "# Piecewise linearization\n",
    "rvec = logspace(0.00001,2*r,10)\n",
    "for i in 1:nctrl\n",
    "    for j in 1:nt\n",
    "    @constraint(m, logabsx[i,j] == piecewiselinear(m, absx[i,j], rvec, log.(rvec)))\n",
    "    @constraint(m, logabsy[i,j] == piecewiselinear(m, absy[i,j], rvec, log.(rvec)))\n",
    "    @constraint(m, logl[i,j] == piecewiselinear(m, l[i,j], rvec, log.(rvec)))\n",
    "    end\n",
    "end\n"
   ]
  },
  {
   "cell_type": "code",
   "execution_count": 18,
   "metadata": {},
   "outputs": [],
   "source": [
    "# Purely convex (GP) constraints\n",
    "for i in 1:nctrl \n",
    "    for j in 1:nt\n",
    "        @NLconstraint(m, log(exp(2*logabsx[i,j]) + exp(2*logabsy[i,j])) <= 2*log(r))\n",
    "        @NLconstraint(m, exp(2*logabsx[i,j]) <= dx2[i,j])\n",
    "#         @NLconstraint(m, exp(2*logabsx[i,j]) >= dx2[i,j])\n",
    "        @NLconstraint(m, exp(2*logabsy[i,j]) <= dy2[i,j])\n",
    "#         @NLconstraint(m, exp(2*logabsy[i,j]) >= dy2[i,j])\n",
    "#         @NLconstraint(m, exp(2*logl[i,j]) >= l2[i,j])\n",
    "        @NLconstraint(m, exp(2*logl[i,j]) <= l2[i,j])\n",
    "    end\n",
    "end"
   ]
  },
  {
   "cell_type": "code",
   "execution_count": 19,
   "metadata": {},
   "outputs": [
    {
     "data": {
      "text/latex": [
       "$$ penalty_{1} + penalty_{2} + penalty_{3} + penalty_{4} + penalty_{5} + penalty_{6} $$"
      ],
      "text/plain": [
       "penalty[1] + penalty[2] + penalty[3] + penalty[4] + penalty[5] + penalty[6]"
      ]
     },
     "execution_count": 19,
     "metadata": {},
     "output_type": "execute_result"
    }
   ],
   "source": [
    "@objective(m, Min, sum(penalty))"
   ]
  },
  {
   "cell_type": "code",
   "execution_count": 20,
   "metadata": {},
   "outputs": [
    {
     "name": "stdout",
     "output_type": "stream",
     "text": [
      "\n",
      "DaChoppa solver starting...\n",
      "CPXPARAM_Simplex_Tolerances_Feasibility          1.0000000000000001e-09\n",
      "CPXPARAM_Preprocessing_Reduce                    1\n",
      "CPXPARAM_Preprocessing_Linear                    0\n",
      "CPXPARAM_MIP_Tolerances_MIPGap                   9.9999999999999995e-08\n",
      "CPXPARAM_MIP_Tolerances_Integrality              1.0000000000000001e-09\n",
      "CPXPARAM_MIP_Strategy_CallbackReducedLP          0\n",
      "Warning: Control callbacks may disable some MIP features.\n",
      "Tried aggregator 2 times.\n",
      "MIP Presolve eliminated 284 rows and 224 columns.\n",
      "MIP Presolve modified 2880 coefficients.\n",
      "Aggregator did 326 substitutions.\n",
      "Reduced MIP has 1702 rows, 2342 columns, and 11030 nonzeros.\n",
      "Reduced MIP has 576 binaries, 0 generals, 0 SOSs, and 0 indicators.\n",
      "Presolve time = 0.00 sec. (7.58 ticks)\n",
      "Probing time = 0.00 sec. (0.60 ticks)\n",
      "Clique table members: 144.\n",
      "MIP emphasis: balance optimality and feasibility.\n",
      "MIP search method: traditional branch-and-cut.\n",
      "Parallel mode: none, using 1 thread.\n",
      "Root relaxation solution time = 0.03 sec. (10.84 ticks)\n",
      "\n",
      "        Nodes                                         Cuts/\n",
      "   Node  Left     Objective  IInf  Best Integer    Best Bound    ItCnt     Gap\n",
      "\n",
      "      0     0       24.4392    46                     24.4392      481         \n",
      "      0     0        cutoff                           24.4392      481         \n",
      "Elapsed time = 0.06 sec. (26.69 ticks, tree = 0.01 MB, solutions = 0)\n",
      "\n",
      "User cuts applied:  192\n",
      "\n",
      "Root node processing (before b&c):\n",
      "  Real time             =    0.06 sec. (26.74 ticks)\n",
      "Sequential b&c:\n",
      "  Real time             =    0.00 sec. (0.00 ticks)\n",
      "                          ------------\n",
      "Total (root+branch&cut) =    0.06 sec. (26.74 ticks)\n",
      "CPLEX Error  1265: Dual unbounded solution required.\n",
      "\n",
      "DaChoppa solver finished...\n",
      "Status              Infeasible\n",
      "Total time             0.06500 s\n",
      "MIP time               0.06400 s\n",
      "Cuts added                 192\n",
      "Callbacks                    1\n",
      "\n"
     ]
    },
    {
     "name": "stderr",
     "output_type": "stream",
     "text": [
      "\u001b[1m\u001b[33mWARNING: \u001b[39m\u001b[22m\u001b[33mNot solved to optimality, status: Infeasible\u001b[39m\n"
     ]
    },
    {
     "data": {
      "text/plain": [
       ":Infeasible"
      ]
     },
     "execution_count": 20,
     "metadata": {},
     "output_type": "execute_result"
    }
   ],
   "source": [
    "sol = solve(m)"
   ]
  },
  {
   "cell_type": "code",
   "execution_count": 21,
   "metadata": {},
   "outputs": [
    {
     "name": "stderr",
     "output_type": "stream",
     "text": [
      "\u001b[1m\u001b[33mWARNING: \u001b[39m\u001b[22m\u001b[33mVariable value not defined for component of x. Check that the model was properly solved.\u001b[39m\n",
      "\u001b[1m\u001b[33mWARNING: \u001b[39m\u001b[22m\u001b[33mVariable value not defined for component of y. Check that the model was properly solved.\u001b[39m\n"
     ]
    },
    {
     "data": {
      "text/plain": [
       "([NaN NaN … NaN NaN; NaN NaN … NaN NaN; … ; NaN NaN … NaN NaN; NaN NaN … NaN NaN], [NaN NaN … NaN NaN; NaN NaN … NaN NaN; … ; NaN NaN … NaN NaN; NaN NaN … NaN NaN])"
      ]
     },
     "execution_count": 21,
     "metadata": {},
     "output_type": "execute_result"
    }
   ],
   "source": [
    "getvalue(x),getvalue(y)"
   ]
  },
  {
   "cell_type": "code",
   "execution_count": 22,
   "metadata": {},
   "outputs": [
    {
     "name": "stderr",
     "output_type": "stream",
     "text": [
      "\u001b[1m\u001b[33mWARNING: \u001b[39m\u001b[22m\u001b[33mVariable value not defined for component of x. Check that the model was properly solved.\u001b[39m\n",
      "\u001b[1m\u001b[33mWARNING: \u001b[39m\u001b[22m\u001b[33mVariable value not defined for component of y. Check that the model was properly solved.\u001b[39m\n"
     ]
    },
    {
     "data": {
      "application/vnd.plotly.v1+json": {
       "data": [],
       "layout": {
        "annotations": [],
        "height": 400,
        "legend": {
         "bgcolor": "rgba(255, 255, 255, 1.000)",
         "bordercolor": "rgba(0, 0, 0, 1.000)",
         "font": {
          "color": "rgba(0, 0, 0, 1.000)",
          "family": "sans-serif",
          "size": 11
         },
         "tracegroupgap": 0,
         "x": 1,
         "y": 1
        },
        "margin": {
         "b": 20,
         "l": 0,
         "r": 0,
         "t": 20
        },
        "paper_bgcolor": "rgba(255, 255, 255, 1.000)",
        "plot_bgcolor": "rgba(255, 255, 255, 1.000)",
        "showlegend": true,
        "width": 600,
        "xaxis": {
         "anchor": "y1",
         "domain": [
          0.0658209390492855,
          0.9934383202099738
         ],
         "gridcolor": "rgba(0, 0, 0, 0.100)",
         "gridwidth": 0.5,
         "linecolor": "rgba(0, 0, 0, 1.000)",
         "mirror": false,
         "range": [
          -0.03,
          1.03
         ],
         "showgrid": true,
         "showline": true,
         "showticklabels": true,
         "tickangle": 0,
         "tickcolor": "rgb(0, 0, 0)",
         "tickfont": {
          "color": "rgba(0, 0, 0, 1.000)",
          "family": "sans-serif",
          "size": 11
         },
         "tickmode": "array",
         "ticks": "inside",
         "ticktext": [
          "0.00",
          "0.25",
          "0.50",
          "0.75",
          "1.00"
         ],
         "tickvals": [
          0,
          0.25,
          0.5,
          0.75,
          1
         ],
         "title": "",
         "titlefont": {
          "color": "rgba(0, 0, 0, 1.000)",
          "family": "sans-serif",
          "size": 15
         },
         "type": "-",
         "visible": true,
         "zeroline": false,
         "zerolinecolor": "rgba(0, 0, 0, 1.000)"
        },
        "yaxis": {
         "anchor": "x1",
         "domain": [
          0.03762029746281716,
          0.9901574803149606
         ],
         "gridcolor": "rgba(0, 0, 0, 0.100)",
         "gridwidth": 0.5,
         "linecolor": "rgba(0, 0, 0, 1.000)",
         "mirror": false,
         "range": [
          -0.03,
          1.03
         ],
         "showgrid": true,
         "showline": true,
         "showticklabels": true,
         "tickangle": 0,
         "tickcolor": "rgb(0, 0, 0)",
         "tickfont": {
          "color": "rgba(0, 0, 0, 1.000)",
          "family": "sans-serif",
          "size": 11
         },
         "tickmode": "array",
         "ticks": "inside",
         "ticktext": [
          "0.00",
          "0.25",
          "0.50",
          "0.75",
          "1.00"
         ],
         "tickvals": [
          0,
          0.25,
          0.5,
          0.75,
          1
         ],
         "title": "",
         "titlefont": {
          "color": "rgba(0, 0, 0, 1.000)",
          "family": "sans-serif",
          "size": 15
         },
         "type": "-",
         "visible": true,
         "zeroline": false,
         "zerolinecolor": "rgba(0, 0, 0, 1.000)"
        }
       }
      },
      "text/html": [
       "<script src=\"file://C:\\Users\\Berk\\.julia\\v0.6\\Plots\\src\\backends\\..\\..\\deps\\plotly-latest.min.js\"></script>    <div id=\"549cc631-3d3a-4c0c-a1a1-393e970fe724\" style=\"width:600px;height:400px;\"></div>\n",
       "    <script>\n",
       "    PLOT = document.getElementById('549cc631-3d3a-4c0c-a1a1-393e970fe724');\n",
       "    Plotly.plot(PLOT, [], {\"showlegend\":true,\"xaxis\":{\"showticklabels\":true,\"gridwidth\":0.5,\"tickvals\":[0.0,0.25,0.5,0.75,1.0],\"visible\":true,\"ticks\":\"inside\",\"range\":[-0.03,1.03],\"domain\":[0.0658209390492855,0.9934383202099738],\"tickmode\":\"array\",\"linecolor\":\"rgba(0, 0, 0, 1.000)\",\"showgrid\":true,\"title\":\"\",\"mirror\":false,\"tickangle\":0,\"showline\":true,\"gridcolor\":\"rgba(0, 0, 0, 0.100)\",\"titlefont\":{\"color\":\"rgba(0, 0, 0, 1.000)\",\"family\":\"sans-serif\",\"size\":15},\"tickcolor\":\"rgb(0, 0, 0)\",\"ticktext\":[\"0.00\",\"0.25\",\"0.50\",\"0.75\",\"1.00\"],\"zeroline\":false,\"type\":\"-\",\"tickfont\":{\"color\":\"rgba(0, 0, 0, 1.000)\",\"family\":\"sans-serif\",\"size\":11},\"zerolinecolor\":\"rgba(0, 0, 0, 1.000)\",\"anchor\":\"y1\"},\"paper_bgcolor\":\"rgba(255, 255, 255, 1.000)\",\"annotations\":[],\"height\":400,\"margin\":{\"l\":0,\"b\":20,\"r\":0,\"t\":20},\"plot_bgcolor\":\"rgba(255, 255, 255, 1.000)\",\"yaxis\":{\"showticklabels\":true,\"gridwidth\":0.5,\"tickvals\":[0.0,0.25,0.5,0.75,1.0],\"visible\":true,\"ticks\":\"inside\",\"range\":[-0.03,1.03],\"domain\":[0.03762029746281716,0.9901574803149606],\"tickmode\":\"array\",\"linecolor\":\"rgba(0, 0, 0, 1.000)\",\"showgrid\":true,\"title\":\"\",\"mirror\":false,\"tickangle\":0,\"showline\":true,\"gridcolor\":\"rgba(0, 0, 0, 0.100)\",\"titlefont\":{\"color\":\"rgba(0, 0, 0, 1.000)\",\"family\":\"sans-serif\",\"size\":15},\"tickcolor\":\"rgb(0, 0, 0)\",\"ticktext\":[\"0.00\",\"0.25\",\"0.50\",\"0.75\",\"1.00\"],\"zeroline\":false,\"type\":\"-\",\"tickfont\":{\"color\":\"rgba(0, 0, 0, 1.000)\",\"family\":\"sans-serif\",\"size\":11},\"zerolinecolor\":\"rgba(0, 0, 0, 1.000)\",\"anchor\":\"x1\"},\"legend\":{\"tracegroupgap\":0,\"bordercolor\":\"rgba(0, 0, 0, 1.000)\",\"bgcolor\":\"rgba(255, 255, 255, 1.000)\",\"font\":{\"color\":\"rgba(0, 0, 0, 1.000)\",\"family\":\"sans-serif\",\"size\":11},\"y\":1.0,\"x\":1.0},\"width\":600});\n",
       "    </script>\n"
      ]
     },
     "execution_count": 22,
     "metadata": {},
     "output_type": "execute_result"
    }
   ],
   "source": [
    "# plt = plot(xlim = (-r,r), ylim = (-r,r), title=\"SRM\")\n",
    "# @gif for 1 = 1:nt\n",
    "#     push!(plt,x[:,i],y[:,i])\n",
    "# end\n",
    "plot(getvalue(x),getvalue(y))"
   ]
  },
  {
   "cell_type": "code",
   "execution_count": null,
   "metadata": {},
   "outputs": [],
   "source": []
  }
 ],
 "metadata": {
  "kernelspec": {
   "display_name": "Julia 0.6.4",
   "language": "julia",
   "name": "julia-0.6"
  },
  "language_info": {
   "file_extension": ".jl",
   "mimetype": "application/julia",
   "name": "julia",
   "version": "0.6.4"
  }
 },
 "nbformat": 4,
 "nbformat_minor": 2
}
