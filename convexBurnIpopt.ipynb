{
 "cells": [
  {
   "cell_type": "code",
   "execution_count": 1,
   "metadata": {},
   "outputs": [
    {
     "data": {
      "text/plain": [
       "Ipopt.IpoptSolver(Any[])"
      ]
     },
     "execution_count": 1,
     "metadata": {},
     "output_type": "execute_result"
    }
   ],
   "source": [
    "using JuMP\n",
    "using Ipopt\n",
    "solver = IpoptSolver()"
   ]
  },
  {
   "cell_type": "code",
   "execution_count": 2,
   "metadata": {},
   "outputs": [],
   "source": [
    "# Problem definition\n",
    "nctrl = 10; # number of control points\n",
    "nt = 5; # number of time steps\n",
    "r = 1; # radius of the motor\n",
    "circ = 2*pi*r; # maximum circumference of the motor\n",
    "circProfile = pi*r*ones(nt);\n",
    "regrate = 0.05;"
   ]
  },
  {
   "cell_type": "code",
   "execution_count": 5,
   "metadata": {},
   "outputs": [
    {
     "data": {
      "text/plain": [
       "soromotor_model (generic function with 1 method)"
      ]
     },
     "execution_count": 5,
     "metadata": {},
     "output_type": "execute_result"
    }
   ],
   "source": [
    "function soromotor_model(solver, nctrl::Int, nt::Int, r, regrate,circProfile)\n",
    "    m = Model(solver = solver)\n",
    "    \n",
    "    # variables\n",
    "    @variables m begin\n",
    "        x[1:nctrl, 1:nt]\n",
    "        y[1:nctrl, 1:nt]    \n",
    "        nx[1:nctrl, 1:nt]\n",
    "        ny[1:nctrl, 1:nt]\n",
    "        l[1:nctrl, 1:nt]\n",
    "        circ[1:nt]\n",
    "    end\n",
    "            \n",
    "    \n",
    "    # constraints\n",
    "    @constraints m begin\n",
    "        l[:,:] .>= 0\n",
    "        circ[:,:] .>= 0\n",
    "        # Motion of flame front \n",
    "        x[1:nctrl,2:nt] .== x[1:nctrl,1:nt-1] + \n",
    "            0.5*nx[1:nctrl,1:nt-1]*regrate + \n",
    "            0.5*nx[1:nctrl,1:nt-1]*regrate\n",
    "        y[1:nctrl,2:nt] .== y[1:nctrl,1:nt-1] + \n",
    "            0.5*ny[1:nctrl,1:nt-1]*regrate + \n",
    "            0.5*ny[1:nctrl,1:nt-1]*regrate\n",
    "    end\n",
    "    # nonlinear constraints\n",
    "    for i in 1:nctrl\n",
    "        for j in 1:nt\n",
    "            @NLconstraint(m, x[i,j]^2 + y[i,j]^2 <= r^2)\n",
    "        end\n",
    "    end\n",
    "    for i in 2:nctrl\n",
    "        for j in 1:nt\n",
    "            @NLconstraint(m, ny[i,j] == (x[i,j]-x[i-1,j])/l[i,j])\n",
    "            @NLconstraint(m, nx[i,j] == -(y[i,j]-y[i-1,j])/l[i,j])\n",
    "            @NLconstraint(m, l[i,j] == (x[i,j] - x[i-1,j])^2 + \n",
    "                (y[i,j] - y[i-1,j])^2)\n",
    "        end\n",
    "    end\n",
    "    for j in 1:nt      \n",
    "        @NLconstraint(m, ny[1,j] == (x[1,j]-x[nctrl,j])/l[1,j])      \n",
    "        @NLconstraint(m, nx[1,j] == -(y[1,j]-y[nctrl,j])/l[1,j])\n",
    "        @NLconstraint(m, l[1,j] == (x[1,j] - x[nctrl,j])^2 + (y[1,j] - y[nctrl,j])^2)\n",
    "    end\n",
    "    for i in 1:nt\n",
    "        @constraint(m, circ[i] == sum(x for x in l[1:nctrl,i]))\n",
    "    end\n",
    "    @NLobjective(m, Min, sum((circ[a]-circProfile[a])^2 for a in 1:nt))\n",
    "    return m\n",
    "end\n",
    "\n"
   ]
  },
  {
   "cell_type": "code",
   "execution_count": 6,
   "metadata": {},
   "outputs": [
    {
     "name": "stdout",
     "output_type": "stream",
     "text": [
      "This is Ipopt version 3.12.8, running with linear solver mumps.\n",
      "NOTE: Other linear solvers might be more efficient (see Ipopt documentation).\n",
      "\n",
      "Number of nonzeros in equality constraint Jacobian...:      890\n",
      "Number of nonzeros in inequality constraint Jacobian.:      210\n",
      "Number of nonzeros in Lagrangian Hessian.............:     1005\n",
      "\n",
      "The Jacobian for the equality constraints contains an invalid number\n",
      "\n",
      "Number of Iterations....: 0\n",
      "\n",
      "Number of objective function evaluations             = 0\n",
      "Number of objective gradient evaluations             = 0\n",
      "Number of equality constraint evaluations            = 0\n",
      "Number of inequality constraint evaluations          = 1\n",
      "Number of equality constraint Jacobian evaluations   = 1\n",
      "Number of inequality constraint Jacobian evaluations = 0\n",
      "Number of Lagrangian Hessian evaluations             = 0\n",
      "Total CPU secs in IPOPT (w/o function evaluations)   =      0.000\n",
      "Total CPU secs in NLP function evaluations           =      0.000\n",
      "\n",
      "EXIT: Invalid number in NLP function or derivative detected.\n"
     ]
    },
    {
     "name": "stderr",
     "output_type": "stream",
     "text": [
      "\u001b[1m\u001b[33mWARNING: \u001b[39m\u001b[22m\u001b[33mIpopt finished with status Invalid_Number_Detected\u001b[39m\n",
      "\u001b[1m\u001b[33mWARNING: \u001b[39m\u001b[22m\u001b[33mNot solved to optimality, status: Error\u001b[39m\n"
     ]
    },
    {
     "data": {
      "text/plain": [
       ":Error"
      ]
     },
     "execution_count": 6,
     "metadata": {},
     "output_type": "execute_result"
    }
   ],
   "source": [
    "m = soromotor_model(solver, nctrl, nt, r, regrate,circProfile)\n",
    "solve(m)\n",
    "#status = solve(m)"
   ]
  }
 ],
 "metadata": {
  "kernelspec": {
   "display_name": "Julia 0.6.4",
   "language": "julia",
   "name": "julia-0.6"
  },
  "language_info": {
   "file_extension": ".jl",
   "mimetype": "application/julia",
   "name": "julia",
   "version": "0.6.4"
  }
 },
 "nbformat": 4,
 "nbformat_minor": 2
}
