{
 "cells": [
  {
   "cell_type": "code",
   "execution_count": 11,
   "metadata": {},
   "outputs": [
    {
     "data": {
      "text/plain": [
       "0-element Array{Any,1}"
      ]
     },
     "execution_count": 11,
     "metadata": {},
     "output_type": "execute_result"
    }
   ],
   "source": [
    "using Convex\n",
    "#using Gurobi\n",
    "constraints = []"
   ]
  },
  {
   "cell_type": "code",
   "execution_count": 12,
   "metadata": {},
   "outputs": [],
   "source": [
    "# Problem definition\n",
    "nctrl = 10; # number of control points\n",
    "nt = 5; # number of time steps\n",
    "r = 1; # radius of the motor\n",
    "circ = 2*pi*r; # maximum circumference of the motor\n",
    "circProfile = 2*pi*r*ones(nt);\n",
    "regrate = 0.05;"
   ]
  },
  {
   "cell_type": "code",
   "execution_count": 30,
   "metadata": {},
   "outputs": [
    {
     "ename": "LoadError",
     "evalue": "MethodError: no method matching +(::Array{Any,1}, ::Convex.LtConstraint)\u001b[0m\nClosest candidates are:\n  +(::Any, ::Any, \u001b[1m\u001b[31m::Any\u001b[0m, \u001b[1m\u001b[31m::Any...\u001b[0m) at operators.jl:138\n  +(::Array{T,N}, \u001b[1m\u001b[31m::SparseMatrixCSC{Tv,Ti<:Integer}\u001b[0m) at sparse\\sparsematrix.jl:1711\n  +{T<:Convex.Constraint}(\u001b[1m\u001b[31m::Array{T<:Convex.Constraint,N}\u001b[0m, ::Convex.Constraint) at C:\\Users\\Berk\\.julia\\v0.5\\Convex\\src\\constraints/constraints.jl:175\n  ...\u001b[0m",
     "output_type": "error",
     "traceback": [
      "MethodError: no method matching +(::Array{Any,1}, ::Convex.LtConstraint)\u001b[0m\nClosest candidates are:\n  +(::Any, ::Any, \u001b[1m\u001b[31m::Any\u001b[0m, \u001b[1m\u001b[31m::Any...\u001b[0m) at operators.jl:138\n  +(::Array{T,N}, \u001b[1m\u001b[31m::SparseMatrixCSC{Tv,Ti<:Integer}\u001b[0m) at sparse\\sparsematrix.jl:1711\n  +{T<:Convex.Constraint}(\u001b[1m\u001b[31m::Array{T<:Convex.Constraint,N}\u001b[0m, ::Convex.Constraint) at C:\\Users\\Berk\\.julia\\v0.5\\Convex\\src\\constraints/constraints.jl:175\n  ...\u001b[0m",
      "",
      " in macro expansion; at .\\In[30]:12 [inlined]",
      " in anonymous at .\\<missing>:?",
      " in include_string(::String, ::String) at .\\loading.jl:441"
     ]
    }
   ],
   "source": [
    "#@variable(m, 0 <= ctrlRadius[1:nctrl,1:nt] <= r)\n",
    "#@variable(m, 0 <= ctrlTheta[1:nctrl,1:nt] <= 2*pi)\n",
    "# JuMP does not support complex numbers\n",
    "x    = Variable(nctrl, nt)\n",
    "y    = Variable(nctrl, nt)\n",
    "nx   = Variable(nctrl, nt)\n",
    "ny   = Variable(nctrl, nt)\n",
    "l    = Variable(nctrl, nt, Positive())\n",
    "circ = Variable(nt, Positive())\n",
    "# for i in 1:nctrl\n",
    "#     for j in 1:nt\n",
    "#         constraints += x[i,j]^2 + y[i,j]^2 <= r^2\n",
    "#     end\n",
    "# end\n"
   ]
  },
  {
   "cell_type": "code",
   "execution_count": 32,
   "metadata": {},
   "outputs": [
    {
     "ename": "LoadError",
     "evalue": "MethodError: no method matching +(::Array{Any,1}, ::Convex.LtConstraint)\u001b[0m\nClosest candidates are:\n  +(::Any, ::Any, \u001b[1m\u001b[31m::Any\u001b[0m, \u001b[1m\u001b[31m::Any...\u001b[0m) at operators.jl:138\n  +(::Array{T,N}, \u001b[1m\u001b[31m::SparseMatrixCSC{Tv,Ti<:Integer}\u001b[0m) at sparse\\sparsematrix.jl:1711\n  +{T<:Convex.Constraint}(\u001b[1m\u001b[31m::Array{T<:Convex.Constraint,N}\u001b[0m, ::Convex.Constraint) at C:\\Users\\Berk\\.julia\\v0.5\\Convex\\src\\constraints/constraints.jl:175\n  ...\u001b[0m",
     "output_type": "error",
     "traceback": [
      "MethodError: no method matching +(::Array{Any,1}, ::Convex.LtConstraint)\u001b[0m\nClosest candidates are:\n  +(::Any, ::Any, \u001b[1m\u001b[31m::Any\u001b[0m, \u001b[1m\u001b[31m::Any...\u001b[0m) at operators.jl:138\n  +(::Array{T,N}, \u001b[1m\u001b[31m::SparseMatrixCSC{Tv,Ti<:Integer}\u001b[0m) at sparse\\sparsematrix.jl:1711\n  +{T<:Convex.Constraint}(\u001b[1m\u001b[31m::Array{T<:Convex.Constraint,N}\u001b[0m, ::Convex.Constraint) at C:\\Users\\Berk\\.julia\\v0.5\\Convex\\src\\constraints/constraints.jl:175\n  ...\u001b[0m",
      "",
      " in macro expansion; at .\\In[32]:4 [inlined]",
      " in anonymous at .\\<missing>:?",
      " in include_string(::String, ::String) at .\\loading.jl:441"
     ]
    }
   ],
   "source": [
    "for i in range(1,nctrl)\n",
    "    for j in 1:nt\n",
    "        # Geometry bounding\n",
    "        constraints += x[i,j]^2 + y[i,j]^2 <= r^2\n",
    "    end\n",
    "end"
   ]
  },
  {
   "cell_type": "code",
   "execution_count": 4,
   "metadata": {},
   "outputs": [],
   "source": [
    "for i in range(1,nctrl)\n",
    "    for j in 1:nt\n",
    "        # Geometry bounding\n",
    "        constraints += [x[i,j]^2 + y[i,j]^2 <= r^2]\n",
    "    end\n",
    "end\n",
    "\n",
    "# Normal vector and length (of LHS edge of current point) calculation\n",
    "for j in 1:nt\n",
    "    constraints +=[ nx[1,j] == -(y[1,j]-y[nctrl,j])/l[nctrl,j])\n",
    "    @NLconstraint(m, ny[1,j] == (x[1,j]-x[nctrl,j])/l[nctrl,j])\n",
    "    @NLconstraint(m, l[1,j]^2 == (x[1,j] - x[nctrl, j])^2 + (y[1,j] - y[nctrl, j])^2)]\n",
    "    for i in 2:nctrl\n",
    "        @NLconstraint(m, nx[i,j] == -(y[i,j]-y[i-1,j])/l[i-1,j])\n",
    "        @NLconstraint(m, ny[i,j] == (x[i,j]-x[i-1,j])/l[i-1,j])\n",
    "    end\n",
    "end\n",
    "\n",
    "# Motion of the flame front\n",
    "for j in 2:nt\n",
    "    constraints += [x[nctrl,j] == x[nctrl,j-1] + 0.5*nx[nctrl,j-1]*regrate + 0.5*nx[1,j-1]*regrate,\n",
    "                    y[nctrl,j] == y[nctrl,j-1] + 0.5*ny[nctrl,j-1]*regrate + 0.5*ny[1,j-1]*regrate]\n",
    "    for i in 1:nctrl-1\n",
    "    constraints += [x[i,j] == x[i,j-1] + nx[i,j-1]*regrate + nx[i+1,j-1]*regrate,\n",
    "                    y[i,j] == y[i,j-1] + ny[i,j-1]*regrate + ny[i+1,j-1]*regrate]\n",
    "    end\n",
    "end\n",
    "    \n"
   ]
  },
  {
   "cell_type": "code",
   "execution_count": 38,
   "metadata": {},
   "outputs": [
    {
     "data": {
      "text/plain": [
       "AbstractExpr with\n",
       "head: qol_elem\n",
       "size: (1, 1)\n",
       "sign: Convex.Positive()\n",
       "vexity: Convex.ConvexVexity()\n"
      ]
     },
     "execution_count": 38,
     "metadata": {},
     "output_type": "execute_result"
    }
   ],
   "source": [
    "objective= sum((circProfile[i]-circ[i])^2 for i in nt)"
   ]
  },
  {
   "cell_type": "code",
   "execution_count": 1,
   "metadata": {},
   "outputs": [
    {
     "ename": "LoadError",
     "evalue": "UndefVarError: minimize not defined",
     "output_type": "error",
     "traceback": [
      "UndefVarError: minimize not defined",
      "",
      " in include_string(::String, ::String) at .\\loading.jl:441"
     ]
    }
   ],
   "source": [
    "problem = minimize(objective)\n",
    "problem.constraints = constraints"
   ]
  }
 ],
 "metadata": {
  "kernelspec": {
   "display_name": "Julia 0.5.0",
   "language": "julia",
   "name": "julia-0.5"
  },
  "language_info": {
   "file_extension": ".jl",
   "mimetype": "application/julia",
   "name": "julia",
   "version": "0.5.0"
  }
 },
 "nbformat": 4,
 "nbformat_minor": 2
}
